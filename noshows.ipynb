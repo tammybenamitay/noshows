{
  "cells": [
    {
      "cell_type": "markdown",
      "metadata": {
        "id": "MKbOgEUqq8pQ"
      },
      "source": [
        "## imports"
      ]
    },
    {
      "cell_type": "code",
      "execution_count": null,
      "metadata": {
        "id": "cmYDJ1d3q_UZ",
        "vscode": {
          "languageId": "python"
        }
      },
      "outputs": [],
      "source": [
        "import numpy as np\n",
        "import matplotlib.pyplot as plt\n",
        "import pandas as pd\n",
        "from sklearn.model_selection import train_test_split as split\n",
        "from sklearn.metrics import confusion_matrix, classification_report, accuracy_score\n",
        "from sklearn.model_selection import train_test_split\n",
        "from sklearn.linear_model import LogisticRegression\n",
        "from sklearn.datasets import load_iris\n",
        "import seaborn as sns\n",
        "from mpl_toolkits.mplot3d import Axes3D\n",
        "from sklearn.model_selection import cross_val_score\n",
        "from sklearn.metrics import confusion_matrix\n",
        "from sklearn.metrics import mean_squared_error\n",
        "from sklearn.tree import DecisionTreeClassifier\n",
        "from sklearn.ensemble import RandomForestClassifier\n",
        "from sklearn.svm import SVC\n",
        "from sklearn.neighbors import KNeighborsClassifier\n",
        "from sklearn.naive_bayes import GaussianNB\n",
        "pd.options.display.float_format = '{:.4f}'.format\n",
        "%matplotlib inline"
      ]
    },
    {
      "cell_type": "markdown",
      "metadata": {
        "id": "555h3z9trCw_"
      },
      "source": [
        "## methods"
      ]
    },
    {
      "cell_type": "code",
      "execution_count": 5,
      "metadata": {
        "colab": {
          "base_uri": "https://localhost:8080/"
        },
        "id": "FT7QWJws2G15",
        "outputId": "3dc60ed4-3948-4461-ac48-319ad1f18b64",
        "vscode": {
          "languageId": "python"
        }
      },
      "outputs": [
        {
          "data": {
            "text/plain": [
              "7.0000000575710855e-09"
            ]
          },
          "execution_count": 5,
          "metadata": {},
          "output_type": "execute_result"
        }
      ],
      "source": [
        "y_true = np.array([1,0,0])\n",
        "y_pred = np.array([0.99999999, 0.000000001, 0.00000001])\n",
        "\n",
        "def binary_cross_entropy(y_true, y_pred):\n",
        "    return (y_true*np.log(y_pred) + (1-y_true)*np.log(1-y_pred)).mean() *-1\n",
        "\n",
        "binary_cross_entropy(y_true, y_pred)"
      ]
    },
    {
      "cell_type": "code",
      "execution_count": 32,
      "metadata": {
        "id": "YJqSbwbwrJ0t",
        "vscode": {
          "languageId": "python"
        }
      },
      "outputs": [],
      "source": [
        "# Distribution graphs (histogram/bar graph) of column data\n",
        "def plotPerColumnDistribution(df, nGraphShown, nGraphPerRow):\n",
        "    nunique = df.nunique()\n",
        "    df = df[[col for col in df if nunique[col] > 1 and nunique[col] < 50]] # For displaying purposes, pick columns that have between 1 and 50 unique values\n",
        "    nRow, nCol = df.shape\n",
        "    columnNames = list(df)\n",
        "    nGraphRow = (nCol + nGraphPerRow - 1) / nGraphPerRow\n",
        "    plt.figure(num = None, figsize = (6 * nGraphPerRow, 8 * nGraphRow), dpi = 80, facecolor = 'w', edgecolor = 'k')\n",
        "    for i in range(min(nCol, nGraphShown)):\n",
        "        plt.subplot(nGraphRow, nGraphPerRow, i + 1)\n",
        "        columnDf = df.iloc[:, i]\n",
        "        if (not np.issubdtype(type(columnDf.iloc[0]), np.number)):\n",
        "            valueCounts = columnDf.value_counts()\n",
        "            valueCounts.plot.bar()\n",
        "        else:\n",
        "            columnDf.hist()\n",
        "        plt.ylabel('counts')\n",
        "        plt.xticks(rotation = 90)\n",
        "        plt.title(f'{columnNames[i]} (column {i})')\n",
        "    plt.tight_layout(pad = 1.0, w_pad = 1.0, h_pad = 1.0)\n",
        "    plt.show()\n",
        "\n",
        "def plotCorrelationMatrix(df, graphWidth):\n",
        "  filename = df.dataframeName\n",
        "  df = df.dropna('columns') # drop columns with NaN\n",
        "  df = df[[col for col in df if df[col].nunique() > 1]] # keep columns where there are more than 1 unique values\n",
        "  if df.shape[1] < 2:\n",
        "      print(f'No correlation plots shown: The number of non-NaN or constant columns ({df.shape[1]}) is less than 2')\n",
        "      return\n",
        "  corr = df.corr()\n",
        "  plt.figure(num=None, figsize=(graphWidth, graphWidth), dpi=80, facecolor='w', edgecolor='k')\n",
        "  corrMat = plt.matshow(corr, fignum = 1)\n",
        "  plt.xticks(range(len(corr.columns)), corr.columns, rotation=90)\n",
        "  plt.yticks(range(len(corr.columns)), corr.columns)\n",
        "  plt.gca().xaxis.tick_bottom()\n",
        "  plt.colorbar(corrMat)\n",
        "  plt.title(f'Correlation Matrix for {filename}', fontsize=15)\n",
        "  plt.show()\n",
        "\n",
        "def plotScatterMatrix(df, plotSize, textSize):\n",
        "  df = df.select_dtypes(include =[np.number]) # keep only numerical columns\n",
        "  # Remove rows and columns that would lead to df being singular\n",
        "  df = df.dropna('columns')\n",
        "  df = df[[col for col in df if df[col].nunique() > 1]] # keep columns where there are more than 1 unique values\n",
        "  columnNames = list(df)\n",
        "  if len(columnNames) > 10: # reduce the number of columns for matrix inversion of kernel density plots\n",
        "      columnNames = columnNames[:10]\n",
        "  df = df[columnNames]\n",
        "  ax = pd.plotting.scatter_matrix(df, alpha=0.75, figsize=[plotSize, plotSize], diagonal='kde')\n",
        "  corrs = df.corr().values\n",
        "  for i, j in zip(*plt.np.triu_indices_from(ax, k = 1)):\n",
        "      ax[i, j].annotate('Corr. coef = %.3f' % corrs[i, j], (0.8, 0.2), xycoords='axes fraction', ha='center', va='center', size=textSize)\n",
        "  plt.suptitle('Scatter and Density Plot')\n",
        "  plt.show()"
      ]
    },
    {
      "attachments": {},
      "cell_type": "markdown",
      "metadata": {
        "id": "jtSHno1KNqdz"
      },
      "source": [
        "## Get the data"
      ]
    },
    {
      "cell_type": "code",
      "execution_count": 6,
      "metadata": {
        "colab": {
          "base_uri": "https://localhost:8080/"
        },
        "id": "MoKwR-SG35B9",
        "outputId": "d1465d4c-352e-4e7c-d610-d9a03c21c82c",
        "vscode": {
          "languageId": "python"
        }
      },
      "outputs": [
        {
          "name": "stdout",
          "output_type": "stream",
          "text": [
            "Mounted at /content/drive\n"
          ]
        }
      ],
      "source": [
        "#from google.colab import drive\n",
        "#drive.mount('/content/drive')"
      ]
    },
    {
      "cell_type": "code",
      "execution_count": 7,
      "metadata": {
        "colab": {
          "base_uri": "https://localhost:8080/",
          "height": 374
        },
        "id": "2dMb4ZsNNqd1",
        "outputId": "f93517bf-ff6c-422d-fdb6-f1c26ff1d84b",
        "vscode": {
          "languageId": "python"
        }
      },
      "outputs": [
        {
          "data": {
            "text/html": [
              "\n",
              "  <div id=\"df-1f328398-52a0-40bd-ac2a-6cdbfd6893b2\">\n",
              "    <div class=\"colab-df-container\">\n",
              "      <div>\n",
              "<style scoped>\n",
              "    .dataframe tbody tr th:only-of-type {\n",
              "        vertical-align: middle;\n",
              "    }\n",
              "\n",
              "    .dataframe tbody tr th {\n",
              "        vertical-align: top;\n",
              "    }\n",
              "\n",
              "    .dataframe thead th {\n",
              "        text-align: right;\n",
              "    }\n",
              "</style>\n",
              "<table border=\"1\" class=\"dataframe\">\n",
              "  <thead>\n",
              "    <tr style=\"text-align: right;\">\n",
              "      <th></th>\n",
              "      <th>PatientId</th>\n",
              "      <th>AppointmentID</th>\n",
              "      <th>Gender</th>\n",
              "      <th>ScheduledDay</th>\n",
              "      <th>AppointmentDay</th>\n",
              "      <th>Age</th>\n",
              "      <th>Neighbourhood</th>\n",
              "      <th>Scholarship</th>\n",
              "      <th>Hipertension</th>\n",
              "      <th>Diabetes</th>\n",
              "      <th>Alcoholism</th>\n",
              "      <th>Handcap</th>\n",
              "      <th>SMS_received</th>\n",
              "      <th>No-show</th>\n",
              "    </tr>\n",
              "  </thead>\n",
              "  <tbody>\n",
              "    <tr>\n",
              "      <th>0</th>\n",
              "      <td>29872499824296.0000</td>\n",
              "      <td>5642903</td>\n",
              "      <td>F</td>\n",
              "      <td>2016-04-29T18:38:08Z</td>\n",
              "      <td>2016-04-29T00:00:00Z</td>\n",
              "      <td>62</td>\n",
              "      <td>JARDIM DA PENHA</td>\n",
              "      <td>0</td>\n",
              "      <td>1</td>\n",
              "      <td>0</td>\n",
              "      <td>0</td>\n",
              "      <td>0</td>\n",
              "      <td>0</td>\n",
              "      <td>No</td>\n",
              "    </tr>\n",
              "    <tr>\n",
              "      <th>1</th>\n",
              "      <td>558997776694438.0000</td>\n",
              "      <td>5642503</td>\n",
              "      <td>M</td>\n",
              "      <td>2016-04-29T16:08:27Z</td>\n",
              "      <td>2016-04-29T00:00:00Z</td>\n",
              "      <td>56</td>\n",
              "      <td>JARDIM DA PENHA</td>\n",
              "      <td>0</td>\n",
              "      <td>0</td>\n",
              "      <td>0</td>\n",
              "      <td>0</td>\n",
              "      <td>0</td>\n",
              "      <td>0</td>\n",
              "      <td>No</td>\n",
              "    </tr>\n",
              "    <tr>\n",
              "      <th>2</th>\n",
              "      <td>4262962299951.0000</td>\n",
              "      <td>5642549</td>\n",
              "      <td>F</td>\n",
              "      <td>2016-04-29T16:19:04Z</td>\n",
              "      <td>2016-04-29T00:00:00Z</td>\n",
              "      <td>62</td>\n",
              "      <td>MATA DA PRAIA</td>\n",
              "      <td>0</td>\n",
              "      <td>0</td>\n",
              "      <td>0</td>\n",
              "      <td>0</td>\n",
              "      <td>0</td>\n",
              "      <td>0</td>\n",
              "      <td>No</td>\n",
              "    </tr>\n",
              "    <tr>\n",
              "      <th>3</th>\n",
              "      <td>867951213174.0000</td>\n",
              "      <td>5642828</td>\n",
              "      <td>F</td>\n",
              "      <td>2016-04-29T17:29:31Z</td>\n",
              "      <td>2016-04-29T00:00:00Z</td>\n",
              "      <td>8</td>\n",
              "      <td>PONTAL DE CAMBURI</td>\n",
              "      <td>0</td>\n",
              "      <td>0</td>\n",
              "      <td>0</td>\n",
              "      <td>0</td>\n",
              "      <td>0</td>\n",
              "      <td>0</td>\n",
              "      <td>No</td>\n",
              "    </tr>\n",
              "    <tr>\n",
              "      <th>4</th>\n",
              "      <td>8841186448183.0000</td>\n",
              "      <td>5642494</td>\n",
              "      <td>F</td>\n",
              "      <td>2016-04-29T16:07:23Z</td>\n",
              "      <td>2016-04-29T00:00:00Z</td>\n",
              "      <td>56</td>\n",
              "      <td>JARDIM DA PENHA</td>\n",
              "      <td>0</td>\n",
              "      <td>1</td>\n",
              "      <td>1</td>\n",
              "      <td>0</td>\n",
              "      <td>0</td>\n",
              "      <td>0</td>\n",
              "      <td>No</td>\n",
              "    </tr>\n",
              "  </tbody>\n",
              "</table>\n",
              "</div>\n",
              "      <button class=\"colab-df-convert\" onclick=\"convertToInteractive('df-1f328398-52a0-40bd-ac2a-6cdbfd6893b2')\"\n",
              "              title=\"Convert this dataframe to an interactive table.\"\n",
              "              style=\"display:none;\">\n",
              "        \n",
              "  <svg xmlns=\"http://www.w3.org/2000/svg\" height=\"24px\"viewBox=\"0 0 24 24\"\n",
              "       width=\"24px\">\n",
              "    <path d=\"M0 0h24v24H0V0z\" fill=\"none\"/>\n",
              "    <path d=\"M18.56 5.44l.94 2.06.94-2.06 2.06-.94-2.06-.94-.94-2.06-.94 2.06-2.06.94zm-11 1L8.5 8.5l.94-2.06 2.06-.94-2.06-.94L8.5 2.5l-.94 2.06-2.06.94zm10 10l.94 2.06.94-2.06 2.06-.94-2.06-.94-.94-2.06-.94 2.06-2.06.94z\"/><path d=\"M17.41 7.96l-1.37-1.37c-.4-.4-.92-.59-1.43-.59-.52 0-1.04.2-1.43.59L10.3 9.45l-7.72 7.72c-.78.78-.78 2.05 0 2.83L4 21.41c.39.39.9.59 1.41.59.51 0 1.02-.2 1.41-.59l7.78-7.78 2.81-2.81c.8-.78.8-2.07 0-2.86zM5.41 20L4 18.59l7.72-7.72 1.47 1.35L5.41 20z\"/>\n",
              "  </svg>\n",
              "      </button>\n",
              "      \n",
              "  <style>\n",
              "    .colab-df-container {\n",
              "      display:flex;\n",
              "      flex-wrap:wrap;\n",
              "      gap: 12px;\n",
              "    }\n",
              "\n",
              "    .colab-df-convert {\n",
              "      background-color: #E8F0FE;\n",
              "      border: none;\n",
              "      border-radius: 50%;\n",
              "      cursor: pointer;\n",
              "      display: none;\n",
              "      fill: #1967D2;\n",
              "      height: 32px;\n",
              "      padding: 0 0 0 0;\n",
              "      width: 32px;\n",
              "    }\n",
              "\n",
              "    .colab-df-convert:hover {\n",
              "      background-color: #E2EBFA;\n",
              "      box-shadow: 0px 1px 2px rgba(60, 64, 67, 0.3), 0px 1px 3px 1px rgba(60, 64, 67, 0.15);\n",
              "      fill: #174EA6;\n",
              "    }\n",
              "\n",
              "    [theme=dark] .colab-df-convert {\n",
              "      background-color: #3B4455;\n",
              "      fill: #D2E3FC;\n",
              "    }\n",
              "\n",
              "    [theme=dark] .colab-df-convert:hover {\n",
              "      background-color: #434B5C;\n",
              "      box-shadow: 0px 1px 3px 1px rgba(0, 0, 0, 0.15);\n",
              "      filter: drop-shadow(0px 1px 2px rgba(0, 0, 0, 0.3));\n",
              "      fill: #FFFFFF;\n",
              "    }\n",
              "  </style>\n",
              "\n",
              "      <script>\n",
              "        const buttonEl =\n",
              "          document.querySelector('#df-1f328398-52a0-40bd-ac2a-6cdbfd6893b2 button.colab-df-convert');\n",
              "        buttonEl.style.display =\n",
              "          google.colab.kernel.accessAllowed ? 'block' : 'none';\n",
              "\n",
              "        async function convertToInteractive(key) {\n",
              "          const element = document.querySelector('#df-1f328398-52a0-40bd-ac2a-6cdbfd6893b2');\n",
              "          const dataTable =\n",
              "            await google.colab.kernel.invokeFunction('convertToInteractive',\n",
              "                                                     [key], {});\n",
              "          if (!dataTable) return;\n",
              "\n",
              "          const docLinkHtml = 'Like what you see? Visit the ' +\n",
              "            '<a target=\"_blank\" href=https://colab.research.google.com/notebooks/data_table.ipynb>data table notebook</a>'\n",
              "            + ' to learn more about interactive tables.';\n",
              "          element.innerHTML = '';\n",
              "          dataTable['output_type'] = 'display_data';\n",
              "          await google.colab.output.renderOutput(dataTable, element);\n",
              "          const docLink = document.createElement('div');\n",
              "          docLink.innerHTML = docLinkHtml;\n",
              "          element.appendChild(docLink);\n",
              "        }\n",
              "      </script>\n",
              "    </div>\n",
              "  </div>\n",
              "  "
            ],
            "text/plain": [
              "             PatientId  AppointmentID Gender          ScheduledDay  \\\n",
              "0  29872499824296.0000        5642903      F  2016-04-29T18:38:08Z   \n",
              "1 558997776694438.0000        5642503      M  2016-04-29T16:08:27Z   \n",
              "2   4262962299951.0000        5642549      F  2016-04-29T16:19:04Z   \n",
              "3    867951213174.0000        5642828      F  2016-04-29T17:29:31Z   \n",
              "4   8841186448183.0000        5642494      F  2016-04-29T16:07:23Z   \n",
              "\n",
              "         AppointmentDay  Age      Neighbourhood  Scholarship  Hipertension  \\\n",
              "0  2016-04-29T00:00:00Z   62    JARDIM DA PENHA            0             1   \n",
              "1  2016-04-29T00:00:00Z   56    JARDIM DA PENHA            0             0   \n",
              "2  2016-04-29T00:00:00Z   62      MATA DA PRAIA            0             0   \n",
              "3  2016-04-29T00:00:00Z    8  PONTAL DE CAMBURI            0             0   \n",
              "4  2016-04-29T00:00:00Z   56    JARDIM DA PENHA            0             1   \n",
              "\n",
              "   Diabetes  Alcoholism  Handcap  SMS_received No-show  \n",
              "0         0           0        0             0      No  \n",
              "1         0           0        0             0      No  \n",
              "2         0           0        0             0      No  \n",
              "3         0           0        0             0      No  \n",
              "4         1           0        0             0      No  "
            ]
          },
          "execution_count": 7,
          "metadata": {},
          "output_type": "execute_result"
        }
      ],
      "source": [
        "df = pd.read_csv(\"noshows.csv\")\n",
        "df.head()"
      ]
    },
    {
      "cell_type": "code",
      "execution_count": 8,
      "metadata": {
        "colab": {
          "base_uri": "https://localhost:8080/"
        },
        "id": "KCsiPYC2igPd",
        "outputId": "babe3d62-f73a-445d-8b17-d4da7e1b303b",
        "vscode": {
          "languageId": "python"
        }
      },
      "outputs": [
        {
          "data": {
            "text/plain": [
              "No     88208\n",
              "Yes    22319\n",
              "Name: No-show, dtype: int64"
            ]
          },
          "execution_count": 8,
          "metadata": {},
          "output_type": "execute_result"
        }
      ],
      "source": [
        "df[\"No-show\"].value_counts()"
      ]
    },
    {
      "cell_type": "code",
      "execution_count": 9,
      "metadata": {
        "id": "q73uWgmUbf06",
        "vscode": {
          "languageId": "python"
        }
      },
      "outputs": [],
      "source": [
        "df[\"No-show\"] = df[\"No-show\"].map({\"Yes\":0, \"No\": 1})\n",
        "df[\"Gender\"] = df[\"Gender\"].map({\"M\":0, \"F\": 1})\n"
      ]
    },
    {
      "cell_type": "code",
      "execution_count": 10,
      "metadata": {
        "colab": {
          "base_uri": "https://localhost:8080/",
          "height": 277
        },
        "id": "0Gghxxbcc17y",
        "outputId": "8fe661a6-c839-4e38-e419-cb6b96a5ad3f",
        "vscode": {
          "languageId": "python"
        }
      },
      "outputs": [
        {
          "data": {
            "text/html": [
              "\n",
              "  <div id=\"df-0df76bd9-8cb1-42de-aa6c-abc9816e6100\">\n",
              "    <div class=\"colab-df-container\">\n",
              "      <div>\n",
              "<style scoped>\n",
              "    .dataframe tbody tr th:only-of-type {\n",
              "        vertical-align: middle;\n",
              "    }\n",
              "\n",
              "    .dataframe tbody tr th {\n",
              "        vertical-align: top;\n",
              "    }\n",
              "\n",
              "    .dataframe thead th {\n",
              "        text-align: right;\n",
              "    }\n",
              "</style>\n",
              "<table border=\"1\" class=\"dataframe\">\n",
              "  <thead>\n",
              "    <tr style=\"text-align: right;\">\n",
              "      <th></th>\n",
              "      <th>PatientId</th>\n",
              "      <th>AppointmentID</th>\n",
              "      <th>Gender</th>\n",
              "      <th>ScheduledDay</th>\n",
              "      <th>AppointmentDay</th>\n",
              "      <th>Age</th>\n",
              "      <th>Neighbourhood</th>\n",
              "      <th>Scholarship</th>\n",
              "      <th>Hipertension</th>\n",
              "      <th>Diabetes</th>\n",
              "      <th>Alcoholism</th>\n",
              "      <th>Handcap</th>\n",
              "      <th>SMS_received</th>\n",
              "      <th>No-show</th>\n",
              "      <th>scheduled_days_before</th>\n",
              "    </tr>\n",
              "  </thead>\n",
              "  <tbody>\n",
              "    <tr>\n",
              "      <th>0</th>\n",
              "      <td>29872499824296.0000</td>\n",
              "      <td>5642903</td>\n",
              "      <td>1</td>\n",
              "      <td>2016-04-29</td>\n",
              "      <td>2016-04-29</td>\n",
              "      <td>62</td>\n",
              "      <td>JARDIM DA PENHA</td>\n",
              "      <td>0</td>\n",
              "      <td>1</td>\n",
              "      <td>0</td>\n",
              "      <td>0</td>\n",
              "      <td>0</td>\n",
              "      <td>0</td>\n",
              "      <td>1</td>\n",
              "      <td>0</td>\n",
              "    </tr>\n",
              "    <tr>\n",
              "      <th>1</th>\n",
              "      <td>558997776694438.0000</td>\n",
              "      <td>5642503</td>\n",
              "      <td>0</td>\n",
              "      <td>2016-04-29</td>\n",
              "      <td>2016-04-29</td>\n",
              "      <td>56</td>\n",
              "      <td>JARDIM DA PENHA</td>\n",
              "      <td>0</td>\n",
              "      <td>0</td>\n",
              "      <td>0</td>\n",
              "      <td>0</td>\n",
              "      <td>0</td>\n",
              "      <td>0</td>\n",
              "      <td>1</td>\n",
              "      <td>0</td>\n",
              "    </tr>\n",
              "    <tr>\n",
              "      <th>2</th>\n",
              "      <td>4262962299951.0000</td>\n",
              "      <td>5642549</td>\n",
              "      <td>1</td>\n",
              "      <td>2016-04-29</td>\n",
              "      <td>2016-04-29</td>\n",
              "      <td>62</td>\n",
              "      <td>MATA DA PRAIA</td>\n",
              "      <td>0</td>\n",
              "      <td>0</td>\n",
              "      <td>0</td>\n",
              "      <td>0</td>\n",
              "      <td>0</td>\n",
              "      <td>0</td>\n",
              "      <td>1</td>\n",
              "      <td>0</td>\n",
              "    </tr>\n",
              "  </tbody>\n",
              "</table>\n",
              "</div>\n",
              "      <button class=\"colab-df-convert\" onclick=\"convertToInteractive('df-0df76bd9-8cb1-42de-aa6c-abc9816e6100')\"\n",
              "              title=\"Convert this dataframe to an interactive table.\"\n",
              "              style=\"display:none;\">\n",
              "        \n",
              "  <svg xmlns=\"http://www.w3.org/2000/svg\" height=\"24px\"viewBox=\"0 0 24 24\"\n",
              "       width=\"24px\">\n",
              "    <path d=\"M0 0h24v24H0V0z\" fill=\"none\"/>\n",
              "    <path d=\"M18.56 5.44l.94 2.06.94-2.06 2.06-.94-2.06-.94-.94-2.06-.94 2.06-2.06.94zm-11 1L8.5 8.5l.94-2.06 2.06-.94-2.06-.94L8.5 2.5l-.94 2.06-2.06.94zm10 10l.94 2.06.94-2.06 2.06-.94-2.06-.94-.94-2.06-.94 2.06-2.06.94z\"/><path d=\"M17.41 7.96l-1.37-1.37c-.4-.4-.92-.59-1.43-.59-.52 0-1.04.2-1.43.59L10.3 9.45l-7.72 7.72c-.78.78-.78 2.05 0 2.83L4 21.41c.39.39.9.59 1.41.59.51 0 1.02-.2 1.41-.59l7.78-7.78 2.81-2.81c.8-.78.8-2.07 0-2.86zM5.41 20L4 18.59l7.72-7.72 1.47 1.35L5.41 20z\"/>\n",
              "  </svg>\n",
              "      </button>\n",
              "      \n",
              "  <style>\n",
              "    .colab-df-container {\n",
              "      display:flex;\n",
              "      flex-wrap:wrap;\n",
              "      gap: 12px;\n",
              "    }\n",
              "\n",
              "    .colab-df-convert {\n",
              "      background-color: #E8F0FE;\n",
              "      border: none;\n",
              "      border-radius: 50%;\n",
              "      cursor: pointer;\n",
              "      display: none;\n",
              "      fill: #1967D2;\n",
              "      height: 32px;\n",
              "      padding: 0 0 0 0;\n",
              "      width: 32px;\n",
              "    }\n",
              "\n",
              "    .colab-df-convert:hover {\n",
              "      background-color: #E2EBFA;\n",
              "      box-shadow: 0px 1px 2px rgba(60, 64, 67, 0.3), 0px 1px 3px 1px rgba(60, 64, 67, 0.15);\n",
              "      fill: #174EA6;\n",
              "    }\n",
              "\n",
              "    [theme=dark] .colab-df-convert {\n",
              "      background-color: #3B4455;\n",
              "      fill: #D2E3FC;\n",
              "    }\n",
              "\n",
              "    [theme=dark] .colab-df-convert:hover {\n",
              "      background-color: #434B5C;\n",
              "      box-shadow: 0px 1px 3px 1px rgba(0, 0, 0, 0.15);\n",
              "      filter: drop-shadow(0px 1px 2px rgba(0, 0, 0, 0.3));\n",
              "      fill: #FFFFFF;\n",
              "    }\n",
              "  </style>\n",
              "\n",
              "      <script>\n",
              "        const buttonEl =\n",
              "          document.querySelector('#df-0df76bd9-8cb1-42de-aa6c-abc9816e6100 button.colab-df-convert');\n",
              "        buttonEl.style.display =\n",
              "          google.colab.kernel.accessAllowed ? 'block' : 'none';\n",
              "\n",
              "        async function convertToInteractive(key) {\n",
              "          const element = document.querySelector('#df-0df76bd9-8cb1-42de-aa6c-abc9816e6100');\n",
              "          const dataTable =\n",
              "            await google.colab.kernel.invokeFunction('convertToInteractive',\n",
              "                                                     [key], {});\n",
              "          if (!dataTable) return;\n",
              "\n",
              "          const docLinkHtml = 'Like what you see? Visit the ' +\n",
              "            '<a target=\"_blank\" href=https://colab.research.google.com/notebooks/data_table.ipynb>data table notebook</a>'\n",
              "            + ' to learn more about interactive tables.';\n",
              "          element.innerHTML = '';\n",
              "          dataTable['output_type'] = 'display_data';\n",
              "          await google.colab.output.renderOutput(dataTable, element);\n",
              "          const docLink = document.createElement('div');\n",
              "          docLink.innerHTML = docLinkHtml;\n",
              "          element.appendChild(docLink);\n",
              "        }\n",
              "      </script>\n",
              "    </div>\n",
              "  </div>\n",
              "  "
            ],
            "text/plain": [
              "             PatientId  AppointmentID  Gender ScheduledDay AppointmentDay  \\\n",
              "0  29872499824296.0000        5642903       1   2016-04-29     2016-04-29   \n",
              "1 558997776694438.0000        5642503       0   2016-04-29     2016-04-29   \n",
              "2   4262962299951.0000        5642549       1   2016-04-29     2016-04-29   \n",
              "\n",
              "   Age    Neighbourhood  Scholarship  Hipertension  Diabetes  Alcoholism  \\\n",
              "0   62  JARDIM DA PENHA            0             1         0           0   \n",
              "1   56  JARDIM DA PENHA            0             0         0           0   \n",
              "2   62    MATA DA PRAIA            0             0         0           0   \n",
              "\n",
              "   Handcap  SMS_received  No-show  scheduled_days_before  \n",
              "0        0             0        1                      0  \n",
              "1        0             0        1                      0  \n",
              "2        0             0        1                      0  "
            ]
          },
          "execution_count": 10,
          "metadata": {},
          "output_type": "execute_result"
        }
      ],
      "source": [
        "df[\"ScheduledDay\"] = df[\"ScheduledDay\"].astype('datetime64[ns]').dt.date\n",
        "df[\"AppointmentDay\"] = df[\"AppointmentDay\"].astype('datetime64[ns]').dt.date\n",
        "(df[\"AppointmentDay\"][0] - df[\"ScheduledDay\"][0]).days\n",
        "\n",
        "df[\"scheduled_days_before\"] = (df[\"AppointmentDay\"] - df[\"ScheduledDay\"]).apply(lambda l: l.days)\n",
        "df.head(3)"
      ]
    },
    {
      "cell_type": "code",
      "execution_count": null,
      "metadata": {
        "id": "MOO3sJ05xUvV",
        "vscode": {
          "languageId": "python"
        }
      },
      "outputs": [],
      "source": [
        "# dfg = df.groupby('Neighbourhood')['PatientId'].count().reset_index(name=\"count\")\n",
        "# dfg[dfg['count'] > 1000]\n",
        "# df['']\n",
        "dfg = df.groupby('Neighbourhood').filter(lambda x: len(x) > 1000)\n",
        "dfg\n",
        "dfg.plot(kind='bar')\n",
        "#plt.xlabel('Neighbourhood')\n",
        "#plt.ylabel('Count')\n",
        "#plt.title('Appointments by Neighbourhood')\n",
        "plt.show()\n",
        "  \n"
      ]
    },
    {
      "cell_type": "code",
      "execution_count": null,
      "metadata": {
        "id": "x4YIERrGxNE5",
        "vscode": {
          "languageId": "python"
        }
      },
      "outputs": [],
      "source": [
        "df_train, df_test = split(df, train_size=0.7, random_state=0)\n",
        "df_train.head()"
      ]
    },
    {
      "cell_type": "markdown",
      "metadata": {
        "id": "ehocPtQipu97"
      },
      "source": []
    },
    {
      "cell_type": "code",
      "execution_count": 11,
      "metadata": {
        "colab": {
          "base_uri": "https://localhost:8080/"
        },
        "id": "0u878po0kgSX",
        "outputId": "38a785bd-bec6-44b3-ca7d-a338d97ae376",
        "vscode": {
          "languageId": "python"
        }
      },
      "outputs": [
        {
          "data": {
            "text/plain": [
              "(110527, 15)"
            ]
          },
          "execution_count": 11,
          "metadata": {},
          "output_type": "execute_result"
        }
      ],
      "source": [
        "df.shape\n"
      ]
    },
    {
      "cell_type": "code",
      "execution_count": 12,
      "metadata": {
        "id": "P64HDrwtkH86",
        "vscode": {
          "languageId": "python"
        }
      },
      "outputs": [],
      "source": [
        "#sns.pairplot(df)"
      ]
    },
    {
      "cell_type": "markdown",
      "metadata": {
        "id": "hrjsUp0PnJ1B"
      },
      "source": [
        "## connection between schedule_days_before and appointment id \n",
        "## handcap had 0/1/2/3/4 while it should be only true/false"
      ]
    },
    {
      "cell_type": "code",
      "execution_count": 13,
      "metadata": {
        "colab": {
          "base_uri": "https://localhost:8080/",
          "height": 447
        },
        "id": "mlELs2Y0-WjY",
        "outputId": "ca0226d4-da9e-4c77-bd7f-ea50a333940c",
        "vscode": {
          "languageId": "python"
        }
      },
      "outputs": [
        {
          "data": {
            "text/plain": [
              "(0.0, 100.0)"
            ]
          },
          "execution_count": 13,
          "metadata": {},
          "output_type": "execute_result"
        },
        {
          "data": {
            "image/png": "[encoded data removed]",
            "text/plain": [
              "<Figure size 640x480 with 1 Axes>"
            ]
          },
          "metadata": {},
          "output_type": "display_data"
        }
      ],
      "source": [
        "df.groupby('Gender').Age.plot(kind='kde' )\n",
        "plt.legend([\"M\",\"F\"])\n",
        "plt.xlim([0, 100])"
      ]
    },
    {
      "cell_type": "code",
      "execution_count": 14,
      "metadata": {
        "colab": {
          "base_uri": "https://localhost:8080/",
          "height": 447
        },
        "id": "6TjfiLOupw15",
        "outputId": "2b6cf760-f8b8-49e0-8dd6-b2357236e0cc",
        "vscode": {
          "languageId": "python"
        }
      },
      "outputs": [
        {
          "data": {
            "text/plain": [
              "<Axes: ylabel='Density'>"
            ]
          },
          "execution_count": 14,
          "metadata": {},
          "output_type": "execute_result"
        },
        {
          "data": {
            "image/png": "[encoded data removed]",
            "text/plain": [
              "<Figure size 640x480 with 1 Axes>"
            ]
          },
          "metadata": {},
          "output_type": "display_data"
        }
      ],
      "source": [
        "plt.xlim([0, 100])\n",
        "df.scheduled_days_before.plot(kind='kde' )"
      ]
    },
    {
      "cell_type": "code",
      "execution_count": 15,
      "metadata": {
        "colab": {
          "base_uri": "https://localhost:8080/"
        },
        "id": "Rii77PcbqGNi",
        "outputId": "99df9b99-803a-4c26-9990-7f3988573cac",
        "vscode": {
          "languageId": "python"
        }
      },
      "outputs": [
        {
          "data": {
            "text/plain": [
              "(datetime.date(2015, 11, 10), datetime.date(2016, 6, 8))"
            ]
          },
          "execution_count": 15,
          "metadata": {},
          "output_type": "execute_result"
        }
      ],
      "source": [
        "df[\"ScheduledDay\"].min(), df[\"ScheduledDay\"].max()\n"
      ]
    },
    {
      "cell_type": "code",
      "execution_count": 16,
      "metadata": {
        "colab": {
          "base_uri": "https://localhost:8080/"
        },
        "id": "4q3qhbrEr_41",
        "outputId": "a197ebee-c492-4e64-f5d7-2e003da20d1e",
        "vscode": {
          "languageId": "python"
        }
      },
      "outputs": [
        {
          "data": {
            "text/plain": [
              "(datetime.date(2016, 4, 29), datetime.date(2016, 6, 8))"
            ]
          },
          "execution_count": 16,
          "metadata": {},
          "output_type": "execute_result"
        }
      ],
      "source": [
        "df[\"AppointmentDay\"].min(), df[\"AppointmentDay\"].max()"
      ]
    },
    {
      "cell_type": "code",
      "execution_count": 17,
      "metadata": {
        "colab": {
          "base_uri": "https://localhost:8080/",
          "height": 374
        },
        "id": "HxDwryuZpZpc",
        "outputId": "a2a4de49-fa03-4eb1-df27-d745127cda07",
        "vscode": {
          "languageId": "python"
        }
      },
      "outputs": [
        {
          "data": {
            "text/html": [
              "\n",
              "  <div id=\"df-f2c95a7c-cb7e-4574-b433-a89b74cbcbdc\">\n",
              "    <div class=\"colab-df-container\">\n",
              "      <div>\n",
              "<style scoped>\n",
              "    .dataframe tbody tr th:only-of-type {\n",
              "        vertical-align: middle;\n",
              "    }\n",
              "\n",
              "    .dataframe tbody tr th {\n",
              "        vertical-align: top;\n",
              "    }\n",
              "\n",
              "    .dataframe thead th {\n",
              "        text-align: right;\n",
              "    }\n",
              "</style>\n",
              "<table border=\"1\" class=\"dataframe\">\n",
              "  <thead>\n",
              "    <tr style=\"text-align: right;\">\n",
              "      <th></th>\n",
              "      <th>PatientId</th>\n",
              "      <th>AppointmentID</th>\n",
              "      <th>Gender</th>\n",
              "      <th>ScheduledDay</th>\n",
              "      <th>AppointmentDay</th>\n",
              "      <th>Age</th>\n",
              "      <th>Neighbourhood</th>\n",
              "      <th>Scholarship</th>\n",
              "      <th>Hipertension</th>\n",
              "      <th>Diabetes</th>\n",
              "      <th>Alcoholism</th>\n",
              "      <th>Handcap</th>\n",
              "      <th>SMS_received</th>\n",
              "      <th>No-show</th>\n",
              "      <th>scheduled_days_before</th>\n",
              "    </tr>\n",
              "  </thead>\n",
              "  <tbody>\n",
              "    <tr>\n",
              "      <th>0</th>\n",
              "      <td>29872499824296.0000</td>\n",
              "      <td>5642903</td>\n",
              "      <td>1</td>\n",
              "      <td>2016-04-29</td>\n",
              "      <td>2016-04-29</td>\n",
              "      <td>62</td>\n",
              "      <td>JARDIM DA PENHA</td>\n",
              "      <td>0</td>\n",
              "      <td>1</td>\n",
              "      <td>0</td>\n",
              "      <td>0</td>\n",
              "      <td>0</td>\n",
              "      <td>0</td>\n",
              "      <td>1</td>\n",
              "      <td>0</td>\n",
              "    </tr>\n",
              "    <tr>\n",
              "      <th>1</th>\n",
              "      <td>558997776694438.0000</td>\n",
              "      <td>5642503</td>\n",
              "      <td>0</td>\n",
              "      <td>2016-04-29</td>\n",
              "      <td>2016-04-29</td>\n",
              "      <td>56</td>\n",
              "      <td>JARDIM DA PENHA</td>\n",
              "      <td>0</td>\n",
              "      <td>0</td>\n",
              "      <td>0</td>\n",
              "      <td>0</td>\n",
              "      <td>0</td>\n",
              "      <td>0</td>\n",
              "      <td>1</td>\n",
              "      <td>0</td>\n",
              "    </tr>\n",
              "    <tr>\n",
              "      <th>2</th>\n",
              "      <td>4262962299951.0000</td>\n",
              "      <td>5642549</td>\n",
              "      <td>1</td>\n",
              "      <td>2016-04-29</td>\n",
              "      <td>2016-04-29</td>\n",
              "      <td>62</td>\n",
              "      <td>MATA DA PRAIA</td>\n",
              "      <td>0</td>\n",
              "      <td>0</td>\n",
              "      <td>0</td>\n",
              "      <td>0</td>\n",
              "      <td>0</td>\n",
              "      <td>0</td>\n",
              "      <td>1</td>\n",
              "      <td>0</td>\n",
              "    </tr>\n",
              "    <tr>\n",
              "      <th>3</th>\n",
              "      <td>867951213174.0000</td>\n",
              "      <td>5642828</td>\n",
              "      <td>1</td>\n",
              "      <td>2016-04-29</td>\n",
              "      <td>2016-04-29</td>\n",
              "      <td>8</td>\n",
              "      <td>PONTAL DE CAMBURI</td>\n",
              "      <td>0</td>\n",
              "      <td>0</td>\n",
              "      <td>0</td>\n",
              "      <td>0</td>\n",
              "      <td>0</td>\n",
              "      <td>0</td>\n",
              "      <td>1</td>\n",
              "      <td>0</td>\n",
              "    </tr>\n",
              "    <tr>\n",
              "      <th>4</th>\n",
              "      <td>8841186448183.0000</td>\n",
              "      <td>5642494</td>\n",
              "      <td>1</td>\n",
              "      <td>2016-04-29</td>\n",
              "      <td>2016-04-29</td>\n",
              "      <td>56</td>\n",
              "      <td>JARDIM DA PENHA</td>\n",
              "      <td>0</td>\n",
              "      <td>1</td>\n",
              "      <td>1</td>\n",
              "      <td>0</td>\n",
              "      <td>0</td>\n",
              "      <td>0</td>\n",
              "      <td>1</td>\n",
              "      <td>0</td>\n",
              "    </tr>\n",
              "  </tbody>\n",
              "</table>\n",
              "</div>\n",
              "      <button class=\"colab-df-convert\" onclick=\"convertToInteractive('df-f2c95a7c-cb7e-4574-b433-a89b74cbcbdc')\"\n",
              "              title=\"Convert this dataframe to an interactive table.\"\n",
              "              style=\"display:none;\">\n",
              "        \n",
              "  <svg xmlns=\"http://www.w3.org/2000/svg\" height=\"24px\"viewBox=\"0 0 24 24\"\n",
              "       width=\"24px\">\n",
              "    <path d=\"M0 0h24v24H0V0z\" fill=\"none\"/>\n",
              "    <path d=\"M18.56 5.44l.94 2.06.94-2.06 2.06-.94-2.06-.94-.94-2.06-.94 2.06-2.06.94zm-11 1L8.5 8.5l.94-2.06 2.06-.94-2.06-.94L8.5 2.5l-.94 2.06-2.06.94zm10 10l.94 2.06.94-2.06 2.06-.94-2.06-.94-.94-2.06-.94 2.06-2.06.94z\"/><path d=\"M17.41 7.96l-1.37-1.37c-.4-.4-.92-.59-1.43-.59-.52 0-1.04.2-1.43.59L10.3 9.45l-7.72 7.72c-.78.78-.78 2.05 0 2.83L4 21.41c.39.39.9.59 1.41.59.51 0 1.02-.2 1.41-.59l7.78-7.78 2.81-2.81c.8-.78.8-2.07 0-2.86zM5.41 20L4 18.59l7.72-7.72 1.47 1.35L5.41 20z\"/>\n",
              "  </svg>\n",
              "      </button>\n",
              "      \n",
              "  <style>\n",
              "    .colab-df-container {\n",
              "      display:flex;\n",
              "      flex-wrap:wrap;\n",
              "      gap: 12px;\n",
              "    }\n",
              "\n",
              "    .colab-df-convert {\n",
              "      background-color: #E8F0FE;\n",
              "      border: none;\n",
              "      border-radius: 50%;\n",
              "      cursor: pointer;\n",
              "      display: none;\n",
              "      fill: #1967D2;\n",
              "      height: 32px;\n",
              "      padding: 0 0 0 0;\n",
              "      width: 32px;\n",
              "    }\n",
              "\n",
              "    .colab-df-convert:hover {\n",
              "      background-color: #E2EBFA;\n",
              "      box-shadow: 0px 1px 2px rgba(60, 64, 67, 0.3), 0px 1px 3px 1px rgba(60, 64, 67, 0.15);\n",
              "      fill: #174EA6;\n",
              "    }\n",
              "\n",
              "    [theme=dark] .colab-df-convert {\n",
              "      background-color: #3B4455;\n",
              "      fill: #D2E3FC;\n",
              "    }\n",
              "\n",
              "    [theme=dark] .colab-df-convert:hover {\n",
              "      background-color: #434B5C;\n",
              "      box-shadow: 0px 1px 3px 1px rgba(0, 0, 0, 0.15);\n",
              "      filter: drop-shadow(0px 1px 2px rgba(0, 0, 0, 0.3));\n",
              "      fill: #FFFFFF;\n",
              "    }\n",
              "  </style>\n",
              "\n",
              "      <script>\n",
              "        const buttonEl =\n",
              "          document.querySelector('#df-f2c95a7c-cb7e-4574-b433-a89b74cbcbdc button.colab-df-convert');\n",
              "        buttonEl.style.display =\n",
              "          google.colab.kernel.accessAllowed ? 'block' : 'none';\n",
              "\n",
              "        async function convertToInteractive(key) {\n",
              "          const element = document.querySelector('#df-f2c95a7c-cb7e-4574-b433-a89b74cbcbdc');\n",
              "          const dataTable =\n",
              "            await google.colab.kernel.invokeFunction('convertToInteractive',\n",
              "                                                     [key], {});\n",
              "          if (!dataTable) return;\n",
              "\n",
              "          const docLinkHtml = 'Like what you see? Visit the ' +\n",
              "            '<a target=\"_blank\" href=https://colab.research.google.com/notebooks/data_table.ipynb>data table notebook</a>'\n",
              "            + ' to learn more about interactive tables.';\n",
              "          element.innerHTML = '';\n",
              "          dataTable['output_type'] = 'display_data';\n",
              "          await google.colab.output.renderOutput(dataTable, element);\n",
              "          const docLink = document.createElement('div');\n",
              "          docLink.innerHTML = docLinkHtml;\n",
              "          element.appendChild(docLink);\n",
              "        }\n",
              "      </script>\n",
              "    </div>\n",
              "  </div>\n",
              "  "
            ],
            "text/plain": [
              "             PatientId  AppointmentID  Gender ScheduledDay AppointmentDay  \\\n",
              "0  29872499824296.0000        5642903       1   2016-04-29     2016-04-29   \n",
              "1 558997776694438.0000        5642503       0   2016-04-29     2016-04-29   \n",
              "2   4262962299951.0000        5642549       1   2016-04-29     2016-04-29   \n",
              "3    867951213174.0000        5642828       1   2016-04-29     2016-04-29   \n",
              "4   8841186448183.0000        5642494       1   2016-04-29     2016-04-29   \n",
              "\n",
              "   Age      Neighbourhood  Scholarship  Hipertension  Diabetes  Alcoholism  \\\n",
              "0   62    JARDIM DA PENHA            0             1         0           0   \n",
              "1   56    JARDIM DA PENHA            0             0         0           0   \n",
              "2   62      MATA DA PRAIA            0             0         0           0   \n",
              "3    8  PONTAL DE CAMBURI            0             0         0           0   \n",
              "4   56    JARDIM DA PENHA            0             1         1           0   \n",
              "\n",
              "   Handcap  SMS_received  No-show  scheduled_days_before  \n",
              "0        0             0        1                      0  \n",
              "1        0             0        1                      0  \n",
              "2        0             0        1                      0  \n",
              "3        0             0        1                      0  \n",
              "4        0             0        1                      0  "
            ]
          },
          "execution_count": 17,
          "metadata": {},
          "output_type": "execute_result"
        }
      ],
      "source": [
        "df.head()"
      ]
    },
    {
      "cell_type": "code",
      "execution_count": 18,
      "metadata": {
        "colab": {
          "base_uri": "https://localhost:8080/",
          "height": 287
        },
        "id": "PvLi_S9RwDe_",
        "outputId": "7afcb803-498a-407f-e3ba-011091005999",
        "vscode": {
          "languageId": "python"
        }
      },
      "outputs": [
        {
          "data": {
            "text/html": [
              "\n",
              "  <div id=\"df-fdc71cdc-850a-4416-bfb5-de6ffdcd3f19\">\n",
              "    <div class=\"colab-df-container\">\n",
              "      <div>\n",
              "<style scoped>\n",
              "    .dataframe tbody tr th:only-of-type {\n",
              "        vertical-align: middle;\n",
              "    }\n",
              "\n",
              "    .dataframe tbody tr th {\n",
              "        vertical-align: top;\n",
              "    }\n",
              "\n",
              "    .dataframe thead th {\n",
              "        text-align: right;\n",
              "    }\n",
              "</style>\n",
              "<table border=\"1\" class=\"dataframe\">\n",
              "  <thead>\n",
              "    <tr style=\"text-align: right;\">\n",
              "      <th></th>\n",
              "      <th>PatientId</th>\n",
              "      <th>AppointmentID</th>\n",
              "      <th>Gender</th>\n",
              "      <th>ScheduledDay</th>\n",
              "      <th>AppointmentDay</th>\n",
              "      <th>Age</th>\n",
              "      <th>Neighbourhood</th>\n",
              "      <th>Scholarship</th>\n",
              "      <th>Hipertension</th>\n",
              "      <th>Diabetes</th>\n",
              "      <th>Alcoholism</th>\n",
              "      <th>Handcap</th>\n",
              "      <th>SMS_received</th>\n",
              "      <th>No-show</th>\n",
              "      <th>scheduled_days_before</th>\n",
              "    </tr>\n",
              "  </thead>\n",
              "  <tbody>\n",
              "    <tr>\n",
              "      <th>108316</th>\n",
              "      <td>62694127837814.0000</td>\n",
              "      <td>5636952</td>\n",
              "      <td>1</td>\n",
              "      <td>2016-04-28</td>\n",
              "      <td>2016-06-03</td>\n",
              "      <td>29</td>\n",
              "      <td>MARIA ORTIZ</td>\n",
              "      <td>0</td>\n",
              "      <td>0</td>\n",
              "      <td>0</td>\n",
              "      <td>0</td>\n",
              "      <td>0</td>\n",
              "      <td>1</td>\n",
              "      <td>0</td>\n",
              "      <td>36</td>\n",
              "    </tr>\n",
              "    <tr>\n",
              "      <th>104814</th>\n",
              "      <td>77671385192341.0000</td>\n",
              "      <td>5767854</td>\n",
              "      <td>0</td>\n",
              "      <td>2016-06-03</td>\n",
              "      <td>2016-06-07</td>\n",
              "      <td>46</td>\n",
              "      <td>SÃO PEDRO</td>\n",
              "      <td>0</td>\n",
              "      <td>1</td>\n",
              "      <td>0</td>\n",
              "      <td>0</td>\n",
              "      <td>0</td>\n",
              "      <td>1</td>\n",
              "      <td>0</td>\n",
              "      <td>4</td>\n",
              "    </tr>\n",
              "    <tr>\n",
              "      <th>57895</th>\n",
              "      <td>5821115267896.0000</td>\n",
              "      <td>5650380</td>\n",
              "      <td>1</td>\n",
              "      <td>2016-05-03</td>\n",
              "      <td>2016-05-20</td>\n",
              "      <td>25</td>\n",
              "      <td>CONQUISTA</td>\n",
              "      <td>0</td>\n",
              "      <td>0</td>\n",
              "      <td>0</td>\n",
              "      <td>0</td>\n",
              "      <td>0</td>\n",
              "      <td>0</td>\n",
              "      <td>0</td>\n",
              "      <td>17</td>\n",
              "    </tr>\n",
              "    <tr>\n",
              "      <th>25669</th>\n",
              "      <td>581554494351133.0000</td>\n",
              "      <td>5613521</td>\n",
              "      <td>0</td>\n",
              "      <td>2016-04-25</td>\n",
              "      <td>2016-05-06</td>\n",
              "      <td>12</td>\n",
              "      <td>BOA VISTA</td>\n",
              "      <td>0</td>\n",
              "      <td>0</td>\n",
              "      <td>0</td>\n",
              "      <td>0</td>\n",
              "      <td>0</td>\n",
              "      <td>1</td>\n",
              "      <td>1</td>\n",
              "      <td>11</td>\n",
              "    </tr>\n",
              "    <tr>\n",
              "      <th>29717</th>\n",
              "      <td>159922545943736.0000</td>\n",
              "      <td>5706776</td>\n",
              "      <td>1</td>\n",
              "      <td>2016-05-17</td>\n",
              "      <td>2016-05-17</td>\n",
              "      <td>26</td>\n",
              "      <td>SÃO PEDRO</td>\n",
              "      <td>0</td>\n",
              "      <td>0</td>\n",
              "      <td>0</td>\n",
              "      <td>0</td>\n",
              "      <td>0</td>\n",
              "      <td>0</td>\n",
              "      <td>1</td>\n",
              "      <td>0</td>\n",
              "    </tr>\n",
              "  </tbody>\n",
              "</table>\n",
              "</div>\n",
              "      <button class=\"colab-df-convert\" onclick=\"convertToInteractive('df-fdc71cdc-850a-4416-bfb5-de6ffdcd3f19')\"\n",
              "              title=\"Convert this dataframe to an interactive table.\"\n",
              "              style=\"display:none;\">\n",
              "        \n",
              "  <svg xmlns=\"http://www.w3.org/2000/svg\" height=\"24px\"viewBox=\"0 0 24 24\"\n",
              "       width=\"24px\">\n",
              "    <path d=\"M0 0h24v24H0V0z\" fill=\"none\"/>\n",
              "    <path d=\"M18.56 5.44l.94 2.06.94-2.06 2.06-.94-2.06-.94-.94-2.06-.94 2.06-2.06.94zm-11 1L8.5 8.5l.94-2.06 2.06-.94-2.06-.94L8.5 2.5l-.94 2.06-2.06.94zm10 10l.94 2.06.94-2.06 2.06-.94-2.06-.94-.94-2.06-.94 2.06-2.06.94z\"/><path d=\"M17.41 7.96l-1.37-1.37c-.4-.4-.92-.59-1.43-.59-.52 0-1.04.2-1.43.59L10.3 9.45l-7.72 7.72c-.78.78-.78 2.05 0 2.83L4 21.41c.39.39.9.59 1.41.59.51 0 1.02-.2 1.41-.59l7.78-7.78 2.81-2.81c.8-.78.8-2.07 0-2.86zM5.41 20L4 18.59l7.72-7.72 1.47 1.35L5.41 20z\"/>\n",
              "  </svg>\n",
              "      </button>\n",
              "      \n",
              "  <style>\n",
              "    .colab-df-container {\n",
              "      display:flex;\n",
              "      flex-wrap:wrap;\n",
              "      gap: 12px;\n",
              "    }\n",
              "\n",
              "    .colab-df-convert {\n",
              "      background-color: #E8F0FE;\n",
              "      border: none;\n",
              "      border-radius: 50%;\n",
              "      cursor: pointer;\n",
              "      display: none;\n",
              "      fill: #1967D2;\n",
              "      height: 32px;\n",
              "      padding: 0 0 0 0;\n",
              "      width: 32px;\n",
              "    }\n",
              "\n",
              "    .colab-df-convert:hover {\n",
              "      background-color: #E2EBFA;\n",
              "      box-shadow: 0px 1px 2px rgba(60, 64, 67, 0.3), 0px 1px 3px 1px rgba(60, 64, 67, 0.15);\n",
              "      fill: #174EA6;\n",
              "    }\n",
              "\n",
              "    [theme=dark] .colab-df-convert {\n",
              "      background-color: #3B4455;\n",
              "      fill: #D2E3FC;\n",
              "    }\n",
              "\n",
              "    [theme=dark] .colab-df-convert:hover {\n",
              "      background-color: #434B5C;\n",
              "      box-shadow: 0px 1px 3px 1px rgba(0, 0, 0, 0.15);\n",
              "      filter: drop-shadow(0px 1px 2px rgba(0, 0, 0, 0.3));\n",
              "      fill: #FFFFFF;\n",
              "    }\n",
              "  </style>\n",
              "\n",
              "      <script>\n",
              "        const buttonEl =\n",
              "          document.querySelector('#df-fdc71cdc-850a-4416-bfb5-de6ffdcd3f19 button.colab-df-convert');\n",
              "        buttonEl.style.display =\n",
              "          google.colab.kernel.accessAllowed ? 'block' : 'none';\n",
              "\n",
              "        async function convertToInteractive(key) {\n",
              "          const element = document.querySelector('#df-fdc71cdc-850a-4416-bfb5-de6ffdcd3f19');\n",
              "          const dataTable =\n",
              "            await google.colab.kernel.invokeFunction('convertToInteractive',\n",
              "                                                     [key], {});\n",
              "          if (!dataTable) return;\n",
              "\n",
              "          const docLinkHtml = 'Like what you see? Visit the ' +\n",
              "            '<a target=\"_blank\" href=https://colab.research.google.com/notebooks/data_table.ipynb>data table notebook</a>'\n",
              "            + ' to learn more about interactive tables.';\n",
              "          element.innerHTML = '';\n",
              "          dataTable['output_type'] = 'display_data';\n",
              "          await google.colab.output.renderOutput(dataTable, element);\n",
              "          const docLink = document.createElement('div');\n",
              "          docLink.innerHTML = docLinkHtml;\n",
              "          element.appendChild(docLink);\n",
              "        }\n",
              "      </script>\n",
              "    </div>\n",
              "  </div>\n",
              "  "
            ],
            "text/plain": [
              "                  PatientId  AppointmentID  Gender ScheduledDay  \\\n",
              "108316  62694127837814.0000        5636952       1   2016-04-28   \n",
              "104814  77671385192341.0000        5767854       0   2016-06-03   \n",
              "57895    5821115267896.0000        5650380       1   2016-05-03   \n",
              "25669  581554494351133.0000        5613521       0   2016-04-25   \n",
              "29717  159922545943736.0000        5706776       1   2016-05-17   \n",
              "\n",
              "       AppointmentDay  Age Neighbourhood  Scholarship  Hipertension  Diabetes  \\\n",
              "108316     2016-06-03   29   MARIA ORTIZ            0             0         0   \n",
              "104814     2016-06-07   46     SÃO PEDRO            0             1         0   \n",
              "57895      2016-05-20   25     CONQUISTA            0             0         0   \n",
              "25669      2016-05-06   12     BOA VISTA            0             0         0   \n",
              "29717      2016-05-17   26     SÃO PEDRO            0             0         0   \n",
              "\n",
              "        Alcoholism  Handcap  SMS_received  No-show  scheduled_days_before  \n",
              "108316           0        0             1        0                     36  \n",
              "104814           0        0             1        0                      4  \n",
              "57895            0        0             0        0                     17  \n",
              "25669            0        0             1        1                     11  \n",
              "29717            0        0             0        1                      0  "
            ]
          },
          "execution_count": 18,
          "metadata": {},
          "output_type": "execute_result"
        }
      ],
      "source": [
        "\n",
        "df_train, df_test = split(df, train_size=0.7, random_state=0)\n",
        "df_train.head()\n",
        "\n"
      ]
    },
    {
      "cell_type": "code",
      "execution_count": 19,
      "metadata": {
        "id": "mdQlodTDv97V",
        "vscode": {
          "languageId": "python"
        }
      },
      "outputs": [],
      "source": [
        "X_cols = [\"Gender\", \"Age\",\"scheduled_days_before\",\"SMS_received\"]\n",
        "\n",
        "X_train, X_test = df_train[X_cols], df_test[X_cols]\n",
        "y_train, y_test = df_train[\"No-show\"], df_test[\"No-show\"]\n"
      ]
    },
    {
      "cell_type": "code",
      "execution_count": 20,
      "metadata": {
        "id": "ezJnAxmf4pGu",
        "vscode": {
          "languageId": "python"
        }
      },
      "outputs": [],
      "source": [
        "from sklearn.linear_model import LogisticRegression"
      ]
    },
    {
      "cell_type": "code",
      "execution_count": 21,
      "metadata": {
        "colab": {
          "base_uri": "https://localhost:8080/"
        },
        "id": "RvbOeiR54yAu",
        "outputId": "bf1b77df-f7e6-40d6-f23d-14976d8408d1",
        "vscode": {
          "languageId": "python"
        }
      },
      "outputs": [
        {
          "data": {
            "text/plain": [
              "108316    0\n",
              "104814    0\n",
              "57895     0\n",
              "25669     1\n",
              "29717     1\n",
              "         ..\n",
              "21243     1\n",
              "45891     1\n",
              "42613     0\n",
              "43567     1\n",
              "68268     1\n",
              "Name: No-show, Length: 77368, dtype: int64"
            ]
          },
          "execution_count": 21,
          "metadata": {},
          "output_type": "execute_result"
        }
      ],
      "source": [
        "clf = LogisticRegression()\n",
        "clf.fit(X_train, y_train)\n",
        "y_train"
      ]
    },
    {
      "cell_type": "code",
      "execution_count": 22,
      "metadata": {
        "id": "CK0OumQG6bPL",
        "vscode": {
          "languageId": "python"
        }
      },
      "outputs": [],
      "source": [
        "y_pred = clf.predict_proba(X_test)\n",
        "y_pred = pd.DataFrame(y_pred, index = X_test.index, columns = clf.classes_)\n",
        "decisions = y_pred.idxmax(axis=1)"
      ]
    },
    {
      "cell_type": "code",
      "execution_count": 23,
      "metadata": {
        "colab": {
          "base_uri": "https://localhost:8080/"
        },
        "id": "IdKiCXjIy8ds",
        "outputId": "92da5f76-6c21-4492-843f-9cc90c4afdc8",
        "vscode": {
          "languageId": "python"
        }
      },
      "outputs": [
        {
          "name": "stdout",
          "output_type": "stream",
          "text": [
            "0.7966163032660816\n",
            "0.7612412919569348\n",
            "0.7731385144304713\n",
            "0.8002352302542296\n",
            "0.7655387677553606\n"
          ]
        }
      ],
      "source": [
        "def my_experiment_function(df1, list_of_features, my_model):\n",
        "  df_train, df_test = train_test_split(df1, random_state=1, test_size=0.2)\n",
        "\n",
        "  X_train, y_train = df_train[list_of_features],df_train[\"No-show\"]\n",
        "  X_test, y_test = df_test[list_of_features],df_test[\"No-show\"]\n",
        "  \n",
        "  my_model.fit(X_train, y_train)\n",
        "\n",
        "  y_pred = my_model.predict(X_test)\n",
        "  score = my_model.score(X_test, y_test)\n",
        "  return score\n",
        "\n",
        "list_of_features = [\"Gender\", \"Age\",\"scheduled_days_before\",\"SMS_received\"]\n",
        "score = my_experiment_function(df, list_of_features, LogisticRegression())\n",
        "print(score)\n",
        "\n",
        "score = my_experiment_function(df, list_of_features, DecisionTreeClassifier())\n",
        "print(score)\n",
        "\n",
        "score = my_experiment_function(df, list_of_features, RandomForestClassifier())\n",
        "print(score)\n",
        "\n",
        "score = my_experiment_function(df, list_of_features, SVC())\n",
        "print(score)\n",
        "\n",
        "score = my_experiment_function(df, list_of_features, KNeighborsClassifier())\n",
        "print(score)\n"
      ]
    },
    {
      "cell_type": "code",
      "execution_count": 24,
      "metadata": {
        "colab": {
          "base_uri": "https://localhost:8080/"
        },
        "id": "lRMsoLymAiY0",
        "outputId": "25164b17-c17e-4e68-e665-c74f37ff20c3",
        "vscode": {
          "languageId": "python"
        }
      },
      "outputs": [
        {
          "data": {
            "text/plain": [
              "array([[   68,  4348],\n",
              "       [  148, 17542]])"
            ]
          },
          "execution_count": 24,
          "metadata": {},
          "output_type": "execute_result"
        }
      ],
      "source": [
        "df_train, df_test = train_test_split(df, random_state=1, test_size=0.2)\n",
        "list_of_features = [\"Gender\", \"Age\",\"scheduled_days_before\",\"SMS_received\"]\n",
        "\n",
        "X_train, y_train = df_train[list_of_features],df_train[\"No-show\"]\n",
        "X_test, y_test = df_test[list_of_features],df_test[\"No-show\"]\n",
        "\n",
        "model = LogisticRegression()\n",
        "model.fit(X_train, y_train)\n",
        "\n",
        "y_pred = model.predict(X_test)\n",
        "\n",
        "confusion_matrix(y_test, y_pred)"
      ]
    },
    {
      "cell_type": "code",
      "execution_count": 25,
      "metadata": {
        "colab": {
          "base_uri": "https://localhost:8080/"
        },
        "id": "5tR5klds7m6G",
        "outputId": "c466ef45-fa40-4ebe-948d-083d53185096",
        "vscode": {
          "languageId": "python"
        }
      },
      "outputs": [
        {
          "name": "stdout",
          "output_type": "stream",
          "text": [
            "              precision    recall  f1-score   support\n",
            "\n",
            "           0       0.31      0.02      0.03      4416\n",
            "           1       0.80      0.99      0.89     17690\n",
            "\n",
            "    accuracy                           0.80     22106\n",
            "   macro avg       0.56      0.50      0.46     22106\n",
            "weighted avg       0.70      0.80      0.72     22106\n",
            "\n"
          ]
        }
      ],
      "source": [
        "print(classification_report(y_test,y_pred))"
      ]
    },
    {
      "cell_type": "code",
      "execution_count": 26,
      "metadata": {
        "colab": {
          "base_uri": "https://localhost:8080/"
        },
        "id": "ine3PiWp9maM",
        "outputId": "ca43b6c3-80b7-4f00-8aee-536322874b38",
        "vscode": {
          "languageId": "python"
        }
      },
      "outputs": [
        {
          "data": {
            "text/plain": [
              "-0.205799533378265"
            ]
          },
          "execution_count": 26,
          "metadata": {},
          "output_type": "execute_result"
        }
      ],
      "source": [
        "from sklearn.model_selection import cross_val_score\n",
        "\n",
        "cross_val_score(model, X_train, y_train, cv=5, scoring = \"neg_mean_squared_error\").mean()"
      ]
    },
    {
      "cell_type": "code",
      "execution_count": 27,
      "metadata": {
        "colab": {
          "base_uri": "https://localhost:8080/"
        },
        "id": "WMtRRfJzIVrl",
        "outputId": "227cc9c2-3abf-4947-9b12-fd596fcdbe14",
        "vscode": {
          "languageId": "python"
        }
      },
      "outputs": [
        {
          "data": {
            "text/plain": [
              "array([-0.20525869, -0.20645781, -0.20651436, -0.20532685, -0.20543995])"
            ]
          },
          "execution_count": 27,
          "metadata": {},
          "output_type": "execute_result"
        }
      ],
      "source": [
        "cross_val_score(model, X_train, y_train, cv=5, scoring = \"neg_mean_squared_error\")"
      ]
    },
    {
      "cell_type": "code",
      "execution_count": 28,
      "metadata": {
        "id": "u_Ij4o-8-p5l",
        "vscode": {
          "languageId": "python"
        }
      },
      "outputs": [],
      "source": [
        "def my_experiment_function(list_of_features, num_repititions=5):\n",
        "    out = []\n",
        "    lst_of_models = []\n",
        "    for i in range(num_repititions):\n",
        "        X_train, y_train = df_train[list_of_features],df_train[\"No-show\"]\n",
        "        X_test, y_test = df_test[list_of_features],df_test[\"No-show\"]\n",
        "\n",
        "        model = LogisticRegression()\n",
        "        model.fit(X_train, y_train)\n",
        "\n",
        "        y_pred = model.predict(X_test)\n",
        "\n",
        "        mse = mean_squared_error(y_test, y_pred)\n",
        "        out.append(mse)\n",
        "        lst_of_models.append(model)\n",
        "        \n",
        "    return np.array(out), lst_of_models\n",
        "\n",
        "list_of_features = [\"Gender\", \"Age\",\"scheduled_days_before\",\"SMS_received\"]\n",
        "mses, lst_of_models = my_experiment_function(list_of_features, num_repititions=100)\n"
      ]
    },
    {
      "cell_type": "code",
      "execution_count": 29,
      "metadata": {
        "colab": {
          "base_uri": "https://localhost:8080/"
        },
        "id": "uhJ5TEpX6yBD",
        "outputId": "88b3b521-f4a8-4580-f572-7a699766ab2e",
        "vscode": {
          "languageId": "python"
        }
      },
      "outputs": [
        {
          "name": "stdout",
          "output_type": "stream",
          "text": [
            "[-0.02645479  0.00797325 -0.02276717 -0.34316188]\n",
            "[-0.02645479  0.00797325 -0.02276717 -0.34316188]\n",
            "[-0.02645479  0.00797325 -0.02276717 -0.34316188]\n",
            "[-0.02645479  0.00797325 -0.02276717 -0.34316188]\n",
            "[-0.02645479  0.00797325 -0.02276717 -0.34316188]\n",
            "[-0.02645479  0.00797325 -0.02276717 -0.34316188]\n",
            "[-0.02645479  0.00797325 -0.02276717 -0.34316188]\n",
            "[-0.02645479  0.00797325 -0.02276717 -0.34316188]\n",
            "[-0.02645479  0.00797325 -0.02276717 -0.34316188]\n",
            "[-0.02645479  0.00797325 -0.02276717 -0.34316188]\n",
            "[-0.02645479  0.00797325 -0.02276717 -0.34316188]\n",
            "[-0.02645479  0.00797325 -0.02276717 -0.34316188]\n",
            "[-0.02645479  0.00797325 -0.02276717 -0.34316188]\n",
            "[-0.02645479  0.00797325 -0.02276717 -0.34316188]\n",
            "[-0.02645479  0.00797325 -0.02276717 -0.34316188]\n",
            "[-0.02645479  0.00797325 -0.02276717 -0.34316188]\n",
            "[-0.02645479  0.00797325 -0.02276717 -0.34316188]\n",
            "[-0.02645479  0.00797325 -0.02276717 -0.34316188]\n",
            "[-0.02645479  0.00797325 -0.02276717 -0.34316188]\n",
            "[-0.02645479  0.00797325 -0.02276717 -0.34316188]\n",
            "[-0.02645479  0.00797325 -0.02276717 -0.34316188]\n",
            "[-0.02645479  0.00797325 -0.02276717 -0.34316188]\n",
            "[-0.02645479  0.00797325 -0.02276717 -0.34316188]\n",
            "[-0.02645479  0.00797325 -0.02276717 -0.34316188]\n",
            "[-0.02645479  0.00797325 -0.02276717 -0.34316188]\n",
            "[-0.02645479  0.00797325 -0.02276717 -0.34316188]\n",
            "[-0.02645479  0.00797325 -0.02276717 -0.34316188]\n",
            "[-0.02645479  0.00797325 -0.02276717 -0.34316188]\n",
            "[-0.02645479  0.00797325 -0.02276717 -0.34316188]\n",
            "[-0.02645479  0.00797325 -0.02276717 -0.34316188]\n",
            "[-0.02645479  0.00797325 -0.02276717 -0.34316188]\n",
            "[-0.02645479  0.00797325 -0.02276717 -0.34316188]\n",
            "[-0.02645479  0.00797325 -0.02276717 -0.34316188]\n",
            "[-0.02645479  0.00797325 -0.02276717 -0.34316188]\n",
            "[-0.02645479  0.00797325 -0.02276717 -0.34316188]\n",
            "[-0.02645479  0.00797325 -0.02276717 -0.34316188]\n",
            "[-0.02645479  0.00797325 -0.02276717 -0.34316188]\n",
            "[-0.02645479  0.00797325 -0.02276717 -0.34316188]\n",
            "[-0.02645479  0.00797325 -0.02276717 -0.34316188]\n",
            "[-0.02645479  0.00797325 -0.02276717 -0.34316188]\n",
            "[-0.02645479  0.00797325 -0.02276717 -0.34316188]\n",
            "[-0.02645479  0.00797325 -0.02276717 -0.34316188]\n",
            "[-0.02645479  0.00797325 -0.02276717 -0.34316188]\n",
            "[-0.02645479  0.00797325 -0.02276717 -0.34316188]\n",
            "[-0.02645479  0.00797325 -0.02276717 -0.34316188]\n",
            "[-0.02645479  0.00797325 -0.02276717 -0.34316188]\n",
            "[-0.02645479  0.00797325 -0.02276717 -0.34316188]\n",
            "[-0.02645479  0.00797325 -0.02276717 -0.34316188]\n",
            "[-0.02645479  0.00797325 -0.02276717 -0.34316188]\n",
            "[-0.02645479  0.00797325 -0.02276717 -0.34316188]\n",
            "[-0.02645479  0.00797325 -0.02276717 -0.34316188]\n",
            "[-0.02645479  0.00797325 -0.02276717 -0.34316188]\n",
            "[-0.02645479  0.00797325 -0.02276717 -0.34316188]\n",
            "[-0.02645479  0.00797325 -0.02276717 -0.34316188]\n",
            "[-0.02645479  0.00797325 -0.02276717 -0.34316188]\n",
            "[-0.02645479  0.00797325 -0.02276717 -0.34316188]\n",
            "[-0.02645479  0.00797325 -0.02276717 -0.34316188]\n",
            "[-0.02645479  0.00797325 -0.02276717 -0.34316188]\n",
            "[-0.02645479  0.00797325 -0.02276717 -0.34316188]\n",
            "[-0.02645479  0.00797325 -0.02276717 -0.34316188]\n",
            "[-0.02645479  0.00797325 -0.02276717 -0.34316188]\n",
            "[-0.02645479  0.00797325 -0.02276717 -0.34316188]\n",
            "[-0.02645479  0.00797325 -0.02276717 -0.34316188]\n",
            "[-0.02645479  0.00797325 -0.02276717 -0.34316188]\n",
            "[-0.02645479  0.00797325 -0.02276717 -0.34316188]\n",
            "[-0.02645479  0.00797325 -0.02276717 -0.34316188]\n",
            "[-0.02645479  0.00797325 -0.02276717 -0.34316188]\n",
            "[-0.02645479  0.00797325 -0.02276717 -0.34316188]\n",
            "[-0.02645479  0.00797325 -0.02276717 -0.34316188]\n",
            "[-0.02645479  0.00797325 -0.02276717 -0.34316188]\n",
            "[-0.02645479  0.00797325 -0.02276717 -0.34316188]\n",
            "[-0.02645479  0.00797325 -0.02276717 -0.34316188]\n",
            "[-0.02645479  0.00797325 -0.02276717 -0.34316188]\n",
            "[-0.02645479  0.00797325 -0.02276717 -0.34316188]\n",
            "[-0.02645479  0.00797325 -0.02276717 -0.34316188]\n",
            "[-0.02645479  0.00797325 -0.02276717 -0.34316188]\n",
            "[-0.02645479  0.00797325 -0.02276717 -0.34316188]\n",
            "[-0.02645479  0.00797325 -0.02276717 -0.34316188]\n",
            "[-0.02645479  0.00797325 -0.02276717 -0.34316188]\n",
            "[-0.02645479  0.00797325 -0.02276717 -0.34316188]\n",
            "[-0.02645479  0.00797325 -0.02276717 -0.34316188]\n",
            "[-0.02645479  0.00797325 -0.02276717 -0.34316188]\n",
            "[-0.02645479  0.00797325 -0.02276717 -0.34316188]\n",
            "[-0.02645479  0.00797325 -0.02276717 -0.34316188]\n",
            "[-0.02645479  0.00797325 -0.02276717 -0.34316188]\n",
            "[-0.02645479  0.00797325 -0.02276717 -0.34316188]\n",
            "[-0.02645479  0.00797325 -0.02276717 -0.34316188]\n",
            "[-0.02645479  0.00797325 -0.02276717 -0.34316188]\n",
            "[-0.02645479  0.00797325 -0.02276717 -0.34316188]\n",
            "[-0.02645479  0.00797325 -0.02276717 -0.34316188]\n",
            "[-0.02645479  0.00797325 -0.02276717 -0.34316188]\n",
            "[-0.02645479  0.00797325 -0.02276717 -0.34316188]\n",
            "[-0.02645479  0.00797325 -0.02276717 -0.34316188]\n",
            "[-0.02645479  0.00797325 -0.02276717 -0.34316188]\n",
            "[-0.02645479  0.00797325 -0.02276717 -0.34316188]\n",
            "[-0.02645479  0.00797325 -0.02276717 -0.34316188]\n",
            "[-0.02645479  0.00797325 -0.02276717 -0.34316188]\n",
            "[-0.02645479  0.00797325 -0.02276717 -0.34316188]\n",
            "[-0.02645479  0.00797325 -0.02276717 -0.34316188]\n",
            "[-0.02645479  0.00797325 -0.02276717 -0.34316188]\n"
          ]
        }
      ],
      "source": [
        "for model in lst_of_models:\n",
        "    print(model.coef_[0])"
      ]
    },
    {
      "cell_type": "code",
      "execution_count": 29,
      "metadata": {
        "id": "sCRseIvA_KpM",
        "vscode": {
          "languageId": "python"
        }
      },
      "outputs": [],
      "source": []
    },
    {
      "cell_type": "code",
      "execution_count": 30,
      "metadata": {
        "id": "T9sVcJU4_MwO",
        "vscode": {
          "languageId": "python"
        }
      },
      "outputs": [],
      "source": [
        "coefs =[model.coef_ for model in lst_of_models]\n",
        "\n",
        "#coefs = pd.DataFrame(np.array(coefs), columns = list_of_features)"
      ]
    }
  ],
  "metadata": {
    "colab": {
      "collapsed_sections": [
        "MKbOgEUqq8pQ"
      ],
      "provenance": []
    },
    "kernelspec": {
      "display_name": "Python 3",
      "name": "python3"
    }
  },
  "nbformat": 4,
  "nbformat_minor": 0
}
